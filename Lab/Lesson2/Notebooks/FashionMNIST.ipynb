{
 "cells": [
  {
   "cell_type": "code",
   "execution_count": null,
   "metadata": {},
   "outputs": [],
   "source": [
    "from IPython.core.interactiveshell import InteractiveShell\n",
    "InteractiveShell.ast_node_interactivity = \"all\""
   ]
  },
  {
   "cell_type": "code",
   "execution_count": null,
   "metadata": {},
   "outputs": [],
   "source": [
    "import tensorflow as tf\n",
    "import numpy as np\n",
    "\n",
    "# Set the seed for random operations. \n",
    "# This let our experiments to be reproducible. \n",
    "tf.random.set_seed(1234)  "
   ]
  },
  {
   "cell_type": "markdown",
   "metadata": {},
   "source": [
    "## Dataset"
   ]
  },
  {
   "cell_type": "markdown",
   "metadata": {},
   "source": [
    "### tf.data.Dataset.range"
   ]
  },
  {
   "cell_type": "code",
   "execution_count": null,
   "metadata": {},
   "outputs": [],
   "source": [
    "# Create a Dataset of sequential numbers\n",
    "# --------------------------------------\n",
    "print(\"Dataset.range examples:\")\n",
    "print(\"-----------------------\")\n",
    "\n",
    "range_dataset = tf.data.Dataset.range(0, 20, 1)\n",
    "\n",
    "print(\"\\n1. Dataset\")\n",
    "for el in range_dataset:\n",
    "    print(el)\n",
    "\n",
    "# Divide in batches\n",
    "bs = 3\n",
    "range_dataset = tf.data.Dataset.range(0, 20, 1).batch(bs, drop_remainder=False)\n",
    "\n",
    "print(\"\\n2. Dataset + batch\")\n",
    "for el in range_dataset:\n",
    "    print(el)\n",
    "\n",
    "# Apply a transformation to each element\n",
    "def map_fn(x):\n",
    "    return x**2\n",
    "\n",
    "range_dataset = tf.data.Dataset.range(0, 20, 1).batch(bs, drop_remainder=False).map(map_fn)\n",
    "\n",
    "print(\"\\n3. Dataset + batch + map\")\n",
    "for el in range_dataset:\n",
    "    print(el)\n",
    "\n",
    "# Filter dataset based on a condition\n",
    "def filter_fn(x):\n",
    "    return tf.equal(tf.math.mod(x, 2), 0)\n",
    "\n",
    "range_dataset = tf.data.Dataset.range(0, 20, 1).filter(filter_fn)\n",
    "\n",
    "print(\"\\n4. Dataset + filter\")\n",
    "for el in range_dataset:\n",
    "    print(el)\n",
    "\n",
    "# Random shuffling\n",
    "range_dataset = tf.data.Dataset.range(0, 20, 1).shuffle(\n",
    "    buffer_size=20, reshuffle_each_iteration=False, seed=1234).batch(bs)\n",
    "\n",
    "print(\"\\n5. Dataset + shuffle + batch\")\n",
    "for el in range_dataset:\n",
    "    print(el)\n",
    "\n"
   ]
  },
  {
   "cell_type": "markdown",
   "metadata": {},
   "source": [
    "### tf.data.Dataset.from_tensors"
   ]
  },
  {
   "cell_type": "code",
   "execution_count": null,
   "metadata": {
    "scrolled": true
   },
   "outputs": [],
   "source": [
    "# Create Dataset as unique element\n",
    "# --------------------------------\n",
    "from_tensors_dataset = tf.data.Dataset.from_tensors([1, 2, 3, 4, 5, 6, 7, 8, 9])\n",
    "\n",
    "print(\"Dataset.from_tensors example:\")\n",
    "print(\"-----------------------------\")\n",
    "for el in from_tensors_dataset:\n",
    "    print(el)"
   ]
  },
  {
   "cell_type": "markdown",
   "metadata": {},
   "source": [
    "### tf.data.Dataset.from_tensor_slices"
   ]
  },
  {
   "cell_type": "code",
   "execution_count": null,
   "metadata": {
    "scrolled": true
   },
   "outputs": [],
   "source": [
    "# Create a Dataset of slices\n",
    "# --------------------------\n",
    "\n",
    "# All the elements must have the same size in first dimension (axis 0)\n",
    "from_tensor_slices_dataset = tf.data.Dataset.from_tensor_slices(\n",
    "    (np.random.uniform(size=[10, 2, 2]), np.random.randint(10, size=[10])))\n",
    "\n",
    "print(\"Dataset.from_tensor_slices example:\")\n",
    "print(\"-----------------------------\")\n",
    "for el in from_tensor_slices_dataset:\n",
    "    print(el)"
   ]
  },
  {
   "cell_type": "markdown",
   "metadata": {},
   "source": [
    "### tf.data.Dataset.zip"
   ]
  },
  {
   "cell_type": "code",
   "execution_count": null,
   "metadata": {},
   "outputs": [],
   "source": [
    "# Combine multiple datasets\n",
    "# -------------------------\n",
    "x = tf.data.Dataset.from_tensor_slices(np.random.uniform(size=10))\n",
    "y = tf.data.Dataset.from_tensor_slices([1, 2, 3, 4, 5, 6, 7, 8, 9])\n",
    "\n",
    "zipped = tf.data.Dataset.zip((x, y))\n",
    "\n",
    "print(\"Dataset.from_tensors example:\")\n",
    "print(\"-----------------------------\")\n",
    "for el in zipped:\n",
    "    print(el)"
   ]
  },
  {
   "cell_type": "code",
   "execution_count": null,
   "metadata": {},
   "outputs": [],
   "source": [
    "# Iterate over range dataset\n",
    "# --------------------------\n",
    "\n",
    "# for a in b\n",
    "for el in zipped:\n",
    "    print(el)\n",
    "    \n",
    "print('\\n')\n",
    "    \n",
    "# for a in enumerate(b)\n",
    "for el_idx, el in enumerate(zipped):\n",
    "    print(el)\n",
    "    \n",
    "print('\\n')\n",
    "    \n",
    "# get iterator\n",
    "iterator = iter(zipped)\n",
    "print(next(iterator))"
   ]
  },
  {
   "cell_type": "markdown",
   "metadata": {},
   "source": [
    "# Example: Fashion MNIST - Multi-class classification\n",
    "## Dataset"
   ]
  },
  {
   "cell_type": "code",
   "execution_count": null,
   "metadata": {},
   "outputs": [],
   "source": [
    "# Load built-in dataset\n",
    "# ---------------------\n",
    "(x_train, y_train), (x_test, y_test) = tf.keras.datasets.fashion_mnist.load_data()"
   ]
  },
  {
   "cell_type": "code",
   "execution_count": null,
   "metadata": {},
   "outputs": [],
   "source": [
    "x_train.shape\n",
    "y_train.shape"
   ]
  },
  {
   "cell_type": "code",
   "execution_count": null,
   "metadata": {},
   "outputs": [],
   "source": [
    "# Split in training and validation sets\n",
    "# e.g., 50000 samples for training and 10000 samples for validation\n",
    "\n",
    "x_valid = x_train[50000:, ...] \n",
    "y_valid = y_train[50000:, ...] \n",
    "\n",
    "x_train = x_train[:50000, ...]\n",
    "y_train = y_train[:50000, ...]"
   ]
  },
  {
   "cell_type": "code",
   "execution_count": null,
   "metadata": {},
   "outputs": [],
   "source": [
    "# Create Training Dataset object\n",
    "# ------------------------------\n",
    "train_dataset = tf.data.Dataset.from_tensor_slices((x_train, y_train))\n",
    "\n",
    "# Shuffle\n",
    "train_dataset = train_dataset.shuffle(buffer_size=x_train.shape[0])\n",
    "\n",
    "# Normalize images\n",
    "def normalize_img(x_, y_):\n",
    "    return tf.cast(x_, tf.float32) / 255., y_\n",
    "\n",
    "train_dataset = train_dataset.map(normalize_img)\n",
    "\n",
    "# 1-hot encoding <- for categorical cross entropy\n",
    "def to_categorical(x_, y_):\n",
    "    return x_, tf.one_hot(y_, depth=10)\n",
    "\n",
    "train_dataset = train_dataset.map(to_categorical)\n",
    "\n",
    "# Divide in batches\n",
    "bs = 32\n",
    "train_dataset = train_dataset.batch(bs)\n",
    "\n",
    "# Repeat\n",
    "# Without calling the repeat function the dataset \n",
    "# will be empty after consuming all the images\n",
    "train_dataset = train_dataset.repeat()"
   ]
  },
  {
   "cell_type": "code",
   "execution_count": null,
   "metadata": {},
   "outputs": [],
   "source": [
    "# Create Validation Dataset  \n",
    "# -----------------------\n",
    "valid_dataset = tf.data.Dataset.from_tensor_slices((x_valid, y_valid))\n",
    "\n",
    "# Normalize images\n",
    "valid_dataset = valid_dataset.map(normalize_img)\n",
    "\n",
    "# 1-hot encoding\n",
    "valid_dataset = valid_dataset.map(to_categorical)\n",
    "\n",
    "# Divide in batches\n",
    "valid_dataset = valid_dataset.batch(1)\n",
    "\n",
    "# Repeat\n",
    "valid_dataset = valid_dataset.repeat()"
   ]
  },
  {
   "cell_type": "code",
   "execution_count": null,
   "metadata": {},
   "outputs": [],
   "source": [
    "# Create Test Dataset\n",
    "# -------------------\n",
    "test_dataset = tf.data.Dataset.from_tensor_slices((x_test, y_test))\n",
    "\n",
    "test_dataset = test_dataset.map(normalize_img)\n",
    "\n",
    "test_dataset = test_dataset.map(to_categorical)\n",
    "\n",
    "test_dataset = test_dataset.batch(1)"
   ]
  },
  {
   "cell_type": "code",
   "execution_count": null,
   "metadata": {},
   "outputs": [],
   "source": [
    "# Check that is everything is ok..\n",
    "\n",
    "iterator = iter(train_dataset)\n",
    "sample, target = next(iterator)\n",
    "\n",
    "# Just for visualization purpouses\n",
    "sample = sample[0, ...]  # select first image in the batch\n",
    "sample = sample * 255  # denormalize\n",
    "\n",
    "from PIL import Image\n",
    "img = Image.fromarray(np.uint8(sample))\n",
    "img = img.resize([128, 128])\n",
    "img\n",
    "\n",
    "target[0]  # select corresponding target"
   ]
  },
  {
   "cell_type": "markdown",
   "metadata": {},
   "source": [
    "## Model"
   ]
  },
  {
   "cell_type": "code",
   "execution_count": null,
   "metadata": {},
   "outputs": [],
   "source": [
    "# Fashion MNIST classification\n",
    "# ----------------------------\n",
    "\n",
    "# x: 28x28\n",
    "# y: 10 classes\n",
    "\n",
    "# Create Model\n",
    "# ------------\n",
    "# e.g. in: 28x28 -> h: 10 units -> out: 10 units (number of classes) \n",
    "\n",
    "# Define Input keras tensor\n",
    "x = tf.keras.Input(shape=[28, 28])\n",
    "\n",
    "# Define intermediate hidden layers and chain\n",
    "flatten = tf.keras.layers.Flatten()(x)\n",
    "h = tf.keras.layers.Dense(units=10, activation=tf.keras.activations.sigmoid)(flatten)\n",
    "\n",
    "# Define output layer and chain\n",
    "out = tf.keras.layers.Dense(units=10, activation=tf.keras.activations.softmax)(h)\n",
    "\n",
    "# Create Model instance defining inputs and outputs\n",
    "model = tf.keras.Model(inputs=x, outputs=out)"
   ]
  },
  {
   "cell_type": "code",
   "execution_count": null,
   "metadata": {
    "scrolled": true
   },
   "outputs": [],
   "source": [
    "# Visualize created model as a table\n",
    "model.summary()\n",
    "\n",
    "# Visualize initialized weights\n",
    "model.weights"
   ]
  },
  {
   "cell_type": "code",
   "execution_count": null,
   "metadata": {},
   "outputs": [],
   "source": [
    "# Equivalent formulation\n",
    "# ----------------------\n",
    "\n",
    "# Create model with sequential \n",
    "# (uncomment to run)\n",
    "# seq_model = tf.keras.Sequential()\n",
    "# seq_model.add(tf.keras.layers.Flatten(input_shape=(28, 28))) # or as a list\n",
    "# seq_model.add(tf.keras.layers.Dense(units=10, activation=tf.keras.activations.sigmoid))\n",
    "# seq_model.add(tf.keras.layers.Dense(units=10, activation=tf.keras.activations.softmax))"
   ]
  },
  {
   "cell_type": "code",
   "execution_count": null,
   "metadata": {},
   "outputs": [],
   "source": [
    "# seq_model.summary()\n",
    "# seq_model.weights"
   ]
  },
  {
   "cell_type": "markdown",
   "metadata": {},
   "source": [
    "## Prepare the model for training"
   ]
  },
  {
   "cell_type": "code",
   "execution_count": null,
   "metadata": {},
   "outputs": [],
   "source": [
    "# Optimization params\n",
    "# -------------------\n",
    "\n",
    "# Loss\n",
    "loss = tf.keras.losses.CategoricalCrossentropy()\n",
    "\n",
    "# learning rate\n",
    "lr = 1e-4\n",
    "optimizer = tf.keras.optimizers.Adam(learning_rate=lr)\n",
    "# -------------------\n",
    "\n",
    "# Validation metrics\n",
    "# ------------------\n",
    "\n",
    "metrics = ['accuracy']\n",
    "# ------------------\n",
    "\n",
    "# Compile Model\n",
    "model.compile(optimizer=optimizer, loss=loss, metrics=metrics)"
   ]
  },
  {
   "cell_type": "markdown",
   "metadata": {},
   "source": [
    "## Training"
   ]
  },
  {
   "cell_type": "code",
   "execution_count": null,
   "metadata": {},
   "outputs": [],
   "source": [
    "model.fit(x=train_dataset,  # you can give directly numpy arrays x_train\n",
    "          y=None,   # if x is a Dataset y has to be None, y_train otherwise\n",
    "          epochs=10, \n",
    "          steps_per_epoch=int(np.ceil(x_train.shape[0] / bs)),  # how many batches per epoch\n",
    "          validation_data=valid_dataset,  # give a validation Dataset if you created it manually, otherwise you can use 'validation_split' for automatic split\n",
    "          validation_steps=10000)  # number of batches in validation set"
   ]
  },
  {
   "cell_type": "markdown",
   "metadata": {},
   "source": [
    "## Training with callbacks"
   ]
  },
  {
   "cell_type": "code",
   "execution_count": null,
   "metadata": {},
   "outputs": [],
   "source": [
    "import os\n",
    "from datetime import datetime\n",
    "\n",
    "cwd = os.getcwd()\n",
    "\n",
    "exps_dir = os.path.join(cwd, 'experiments')\n",
    "if not os.path.exists(exps_dir):\n",
    "    os.makedirs(exps_dir)\n",
    "\n",
    "now = datetime.now().strftime('%b%d_%H-%M-%S')\n",
    "\n",
    "exp_dir = os.path.join(exps_dir, 'exp_' + str(now))\n",
    "if not os.path.exists(exp_dir):\n",
    "    os.makedirs(exp_dir)\n",
    "\n",
    "# Model checkpoint\n",
    "# ----------------\n",
    "ckpt_dir = os.path.join(exp_dir, 'ckpts')\n",
    "if not os.path.exists(ckpt_dir):\n",
    "    os.makedirs(ckpt_dir)\n",
    "\n",
    "ckpt_callback = tf.keras.callbacks.ModelCheckpoint(filepath=os.path.join(ckpt_dir, 'ckpt_{epoch:02d}'), \n",
    "                                                   save_weights_only=True)  # False to save the model directly\n",
    "# ----------------\n",
    "\n",
    "# Visualize Learning on Tensorboard\n",
    "# ---------------------------------\n",
    "tb_dir = os.path.join(exp_dir, 'tb_logs')\n",
    "if not os.path.exists(tb_dir):\n",
    "    os.makedirs(tb_dir)\n",
    "    \n",
    "# By default shows losses and metrics for both training and validation\n",
    "tb_callback = tf.keras.callbacks.TensorBoard(log_dir=tb_dir,\n",
    "                                             histogram_freq=1)  # if 1 shows weights histograms\n",
    "# ---------------------------------\n",
    "\n",
    "model.fit(x=train_dataset,\n",
    "          epochs=10,  #### set repeat in training dataset\n",
    "          steps_per_epoch=int(np.ceil(x_train.shape[0] / bs)),\n",
    "          validation_data=valid_dataset,\n",
    "          validation_steps=10000, \n",
    "          callbacks=[ckpt_callback, tb_callback])\n",
    "\n",
    "# How to visualize Tensorboard\n",
    "\n",
    "# 1. tensorboard --logdir EXPERIMENTS_DIR --port PORT     <- from terminal\n",
    "# 2. localhost:PORT   <- in your browser"
   ]
  },
  {
   "cell_type": "markdown",
   "metadata": {},
   "source": [
    "## Test model"
   ]
  },
  {
   "cell_type": "code",
   "execution_count": null,
   "metadata": {},
   "outputs": [],
   "source": [
    "# Let's try a different way to give data to model \n",
    "# using directly the NumPy arrays\n",
    "\n",
    "# model.load_weights('/path/to/checkpoint')  # use this if you want to restore saved model\n",
    "\n",
    "eval_out = model.evaluate(x=x_test / 255.,\n",
    "                          y=tf.keras.utils.to_categorical(y_test),\n",
    "                          verbose=0)\n",
    "\n",
    "eval_out"
   ]
  },
  {
   "cell_type": "markdown",
   "metadata": {},
   "source": [
    "## Compute prediction"
   ]
  },
  {
   "cell_type": "code",
   "execution_count": null,
   "metadata": {},
   "outputs": [],
   "source": [
    "# Compute output given x\n",
    "\n",
    "shoe_img = Image.open('shoe.png').convert('L')\n",
    "\n",
    "shoe_arr = np.expand_dims(np.array(shoe_img), 0)\n",
    "\n",
    "out_softmax = model.predict(x=shoe_arr / 255.)\n",
    "\n",
    "out_softmax  # is already a probability distribution (softmax)"
   ]
  },
  {
   "cell_type": "code",
   "execution_count": null,
   "metadata": {},
   "outputs": [],
   "source": [
    "\n",
    "out_softmax = tf.keras.activations.softmax(tf.convert_to_tensor(out_softmax))\n",
    "out_softmax"
   ]
  },
  {
   "cell_type": "code",
   "execution_count": null,
   "metadata": {},
   "outputs": [],
   "source": [
    "# Get predicted class as the index corresponding to the maximum value in the vector probability\n",
    "predicted_class = tf.argmax(out_softmax, 1)\n",
    "predicted_class"
   ]
  }
 ],
 "metadata": {
  "kernelspec": {
   "display_name": "Python 3",
   "language": "python",
   "name": "python3"
  },
  "language_info": {
   "codemirror_mode": {
    "name": "ipython",
    "version": 3
   },
   "file_extension": ".py",
   "mimetype": "text/x-python",
   "name": "python",
   "nbconvert_exporter": "python",
   "pygments_lexer": "ipython3",
   "version": "3.6.3"
  }
 },
 "nbformat": 4,
 "nbformat_minor": 4
}
